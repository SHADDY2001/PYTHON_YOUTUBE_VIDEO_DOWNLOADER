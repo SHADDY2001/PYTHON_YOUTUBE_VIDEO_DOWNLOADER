{
 "cells": [
  {
   "cell_type": "code",
   "execution_count": 12,
   "id": "d10e9442-8d57-4b81-a209-442574a4eafb",
   "metadata": {},
   "outputs": [],
   "source": [
    "import yt_dlp\n"
   ]
  },
  {
   "cell_type": "code",
   "execution_count": 8,
   "id": "4f6462df-053a-48b9-91da-09dde94e9441",
   "metadata": {},
   "outputs": [
    {
     "name": "stdout",
     "output_type": "stream",
     "text": [
      "[youtube] Extracting URL: https://youtu.be/hNs7I5H7UUQ\n",
      "[youtube] hNs7I5H7UUQ: Downloading webpage\n",
      "[youtube] hNs7I5H7UUQ: Downloading tv client config\n",
      "[youtube] hNs7I5H7UUQ: Downloading tv player API JSON\n",
      "[youtube] hNs7I5H7UUQ: Downloading ios player API JSON\n",
      "[youtube] hNs7I5H7UUQ: Downloading m3u8 information\n"
     ]
    },
    {
     "name": "stderr",
     "output_type": "stream",
     "text": [
      "WARNING: ffmpeg not found. The downloaded format may not be the best available. Installing ffmpeg is strongly recommended: https://github.com/yt-dlp/yt-dlp#dependencies\n"
     ]
    },
    {
     "name": "stdout",
     "output_type": "stream",
     "text": [
      "[info] hNs7I5H7UUQ: Downloading 1 format(s): 18\n",
      "[download] Destination: CHECKING.mp4\n",
      "[download] 100% of    2.67MiB in 00:00:01 at 2.26MiB/s   \n",
      "Download complete!\n"
     ]
    }
   ],
   "source": [
    "import yt_dlp\n",
    "\n",
    "ydl_opts = {\n",
    "    'outtmpl': 'CHECKING.mp4'  # Save file as 'my_custom_name' with correct extension\n",
    "}\n",
    "\n",
    "yt_dlp.YoutubeDL(ydl_opts).download([\"https://youtu.be/hNs7I5H7UUQ\"])\n",
    "print(\"Download complete!\")\n"
   ]
  },
  {
   "cell_type": "code",
   "execution_count": null,
   "id": "e5f35376-eb22-461e-8d8d-9ea4f170b405",
   "metadata": {},
   "outputs": [],
   "source": []
  }
 ],
 "metadata": {
  "kernelspec": {
   "display_name": "Python 3 (ipykernel)",
   "language": "python",
   "name": "python3"
  },
  "language_info": {
   "codemirror_mode": {
    "name": "ipython",
    "version": 3
   },
   "file_extension": ".py",
   "mimetype": "text/x-python",
   "name": "python",
   "nbconvert_exporter": "python",
   "pygments_lexer": "ipython3",
   "version": "3.13.3"
  }
 },
 "nbformat": 4,
 "nbformat_minor": 5
}
